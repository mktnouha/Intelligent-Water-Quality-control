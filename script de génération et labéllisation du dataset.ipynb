{
 "cells": [
  {
   "cell_type": "code",
   "execution_count": 1,
   "id": "af460003",
   "metadata": {},
   "outputs": [],
   "source": [
    "import numpy as np\n",
    "import pandas as pd\n",
    "from matplotlib import pyplot as plt\n",
    "from sklearn.datasets import make_blobs\n",
    "import random"
   ]
  },
  {
   "cell_type": "markdown",
   "id": "e4ee42ea",
   "metadata": {},
   "source": [
    "## DataFrame for pandas"
   ]
  },
  {
   "cell_type": "code",
   "execution_count": 2,
   "id": "33325a61",
   "metadata": {},
   "outputs": [],
   "source": [
    "data = {'file_path': [], 'colony_count': []}"
   ]
  },
  {
   "cell_type": "code",
   "execution_count": 3,
   "id": "f60727e3",
   "metadata": {},
   "outputs": [],
   "source": [
    "def generate_dataset_from_image_directory(how_much_dataset_WE_need):\n",
    "    for i in range(how_much_dataset_WE_need):\n",
    "        X, x = make_blobs(n_samples=random.randint(15, 100), centers=100, n_features=2)\n",
    "        Y, y = make_blobs(n_samples=random.randint(15, 100), centers=100, n_features=2)\n",
    "        Z, z = make_blobs(n_samples=random.randint(15,30), centers=100, n_features=2)\n",
    "        E, e = make_blobs(n_samples=random.randint(15,30), centers=100, n_features=2)\n",
    "        plt.rcParams[\"figure.figsize\"] = [5, 5]\n",
    "        plt.rcParams[\"figure.autolayout\"] = True\n",
    "        plt.gcf().set_visible(False)\n",
    "\n",
    "        cur_count = len(Y) + len(X)\n",
    "        \n",
    "        im = plt.imread(r\"entre.jpeg\")\n",
    "        fig, ax = plt.subplots()\n",
    "        im = ax.imshow(im, extent=[min(min(X[:, 0]),min(Y[:, 0]),min(Z[:, 0]),min(E[:, 0]))-13,\n",
    "                                   max(max(X[:, 0]),max(Y[:, 0]),max(Z[:, 0]),max(E[:, 0]))+12,\n",
    "                                   min(min(X[:, 1]),min(Y[:, 1]),min(Z[:, 1]),min(E[:, 1]))-10,\n",
    "                                   max(max(X[:, 1]),max(Y[:, 1]),max(Z[:, 1]),max(E[:, 1]))+12])\n",
    "        ax.plot(X[:, 0], X[:, 1], '#990000', markersize=random.randint(2,4), marker='o', linestyle='', alpha=0.55)\n",
    "        ax.plot(Y[:, 0], Y[:, 1], '#990000', markersize=random.randint(2,3), marker='o', linestyle='', alpha=0.6)\n",
    "        #ax.plot(Z[:, 0], Z[:, 1], '#3f573a', markersize=random.randint(2,7), marker='o', linestyle='', alpha=0.8)\n",
    "        #ax.plot(E[:, 0], E[:, 1], '#292c10', markersize=random.randint(2,7), marker='o', linestyle='', alpha=0.6)\n",
    "        \n",
    "        \n",
    "        # Basically Create a folder \"dataset\" next to this script\n",
    "        if cur_count > 100:\n",
    "            file_path = rf'dataset/non_conforme/entercoque_{i}.png'\n",
    "        else:\n",
    "            file_path = rf'dataset/conforme/entercoque_{i}.png'\n",
    "        \n",
    "        plt.savefig(file_path)\n",
    "        plt.close()\n",
    "                \n",
    "        # Save labels for basedir\n",
    "        data['file_path'].append(file_path)\n",
    "        data['colony_count'].append(cur_count)\n",
    "    df = pd.DataFrame(data)\n",
    "    df.to_csv('labels.csv')"
   ]
  },
  {
   "cell_type": "code",
   "execution_count": null,
   "id": "73a81a0e",
   "metadata": {},
   "outputs": [
    {
     "name": "stderr",
     "output_type": "stream",
     "text": [
      "/tmp/ipykernel_331312/2807400756.py:14: RuntimeWarning: More than 20 figures have been opened. Figures created through the pyplot interface (`matplotlib.pyplot.figure`) are retained until explicitly closed and may consume too much memory. (To control this warning, see the rcParam `figure.max_open_warning`). Consider using `matplotlib.pyplot.close()`.\n",
      "  fig, ax = plt.subplots()\n"
     ]
    }
   ],
   "source": [
    "generate_dataset_from_image_directory(10000)"
   ]
  },
  {
   "cell_type": "code",
   "execution_count": null,
   "id": "fbffa559",
   "metadata": {},
   "outputs": [],
   "source": []
  }
 ],
 "metadata": {
  "kernelspec": {
   "display_name": "Python 3 (ipykernel)",
   "language": "python",
   "name": "python3"
  },
  "language_info": {
   "codemirror_mode": {
    "name": "ipython",
    "version": 3
   },
   "file_extension": ".py",
   "mimetype": "text/x-python",
   "name": "python",
   "nbconvert_exporter": "python",
   "pygments_lexer": "ipython3",
   "version": "3.10.8"
  }
 },
 "nbformat": 4,
 "nbformat_minor": 5
}
